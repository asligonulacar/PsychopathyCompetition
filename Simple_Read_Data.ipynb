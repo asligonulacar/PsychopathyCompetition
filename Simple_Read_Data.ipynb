{
 "cells": [
  {
   "cell_type": "markdown",
   "metadata": {},
   "source": [
    "## Read Data\n",
    "Each datapoint has an index, 9 personality descriptors and 100 Twitter variables\n",
    "\n",
    "(Named panda datafram as df by convention)"
   ]
  },
  {
   "cell_type": "code",
   "execution_count": 154,
   "metadata": {},
   "outputs": [
    {
     "data": {
      "text/html": [
       "<div>\n",
       "<style scoped>\n",
       "    .dataframe tbody tr th:only-of-type {\n",
       "        vertical-align: middle;\n",
       "    }\n",
       "\n",
       "    .dataframe tbody tr th {\n",
       "        vertical-align: top;\n",
       "    }\n",
       "\n",
       "    .dataframe thead th {\n",
       "        text-align: right;\n",
       "    }\n",
       "</style>\n",
       "<table border=\"1\" class=\"dataframe\">\n",
       "  <thead>\n",
       "    <tr style=\"text-align: right;\">\n",
       "      <th></th>\n",
       "      <th>uid</th>\n",
       "      <th>psychopathy</th>\n",
       "      <th>machiavellianism</th>\n",
       "      <th>narcissism</th>\n",
       "      <th>openness</th>\n",
       "      <th>conscientiousness</th>\n",
       "      <th>extraversion</th>\n",
       "      <th>agreeableness</th>\n",
       "      <th>neuroticism</th>\n",
       "      <th>Var1</th>\n",
       "      <th>...</th>\n",
       "      <th>Var91</th>\n",
       "      <th>Var92</th>\n",
       "      <th>Var93</th>\n",
       "      <th>Var94</th>\n",
       "      <th>Var95</th>\n",
       "      <th>Var96</th>\n",
       "      <th>Var97</th>\n",
       "      <th>Var98</th>\n",
       "      <th>Var99</th>\n",
       "      <th>Var100</th>\n",
       "    </tr>\n",
       "  </thead>\n",
       "  <tbody>\n",
       "    <tr>\n",
       "      <th>0</th>\n",
       "      <td>1</td>\n",
       "      <td>2.444444</td>\n",
       "      <td>3.4</td>\n",
       "      <td>3.444444</td>\n",
       "      <td>7.0</td>\n",
       "      <td>6.0</td>\n",
       "      <td>5.5</td>\n",
       "      <td>3.5</td>\n",
       "      <td>3.5</td>\n",
       "      <td>48.59</td>\n",
       "      <td>...</td>\n",
       "      <td>4.86</td>\n",
       "      <td>1.31</td>\n",
       "      <td>2.05</td>\n",
       "      <td>0.66</td>\n",
       "      <td>0.92</td>\n",
       "      <td>1.14</td>\n",
       "      <td>4.37</td>\n",
       "      <td>0.71</td>\n",
       "      <td>15.11</td>\n",
       "      <td>45.70</td>\n",
       "    </tr>\n",
       "    <tr>\n",
       "      <th>1</th>\n",
       "      <td>2</td>\n",
       "      <td>1.888889</td>\n",
       "      <td>2.4</td>\n",
       "      <td>2.777778</td>\n",
       "      <td>7.0</td>\n",
       "      <td>4.5</td>\n",
       "      <td>6.0</td>\n",
       "      <td>3.0</td>\n",
       "      <td>5.5</td>\n",
       "      <td>41.29</td>\n",
       "      <td>...</td>\n",
       "      <td>8.28</td>\n",
       "      <td>0.04</td>\n",
       "      <td>0.46</td>\n",
       "      <td>2.34</td>\n",
       "      <td>2.99</td>\n",
       "      <td>0.38</td>\n",
       "      <td>1.46</td>\n",
       "      <td>2.83</td>\n",
       "      <td>21.90</td>\n",
       "      <td>53.49</td>\n",
       "    </tr>\n",
       "    <tr>\n",
       "      <th>2</th>\n",
       "      <td>3</td>\n",
       "      <td>1.111111</td>\n",
       "      <td>3.0</td>\n",
       "      <td>3.444444</td>\n",
       "      <td>5.5</td>\n",
       "      <td>6.0</td>\n",
       "      <td>6.0</td>\n",
       "      <td>6.5</td>\n",
       "      <td>3.0</td>\n",
       "      <td>14.65</td>\n",
       "      <td>...</td>\n",
       "      <td>3.07</td>\n",
       "      <td>0.20</td>\n",
       "      <td>2.63</td>\n",
       "      <td>1.72</td>\n",
       "      <td>0.64</td>\n",
       "      <td>0.42</td>\n",
       "      <td>2.74</td>\n",
       "      <td>0.11</td>\n",
       "      <td>10.13</td>\n",
       "      <td>32.77</td>\n",
       "    </tr>\n",
       "    <tr>\n",
       "      <th>3</th>\n",
       "      <td>4</td>\n",
       "      <td>1.888889</td>\n",
       "      <td>3.0</td>\n",
       "      <td>2.444444</td>\n",
       "      <td>5.0</td>\n",
       "      <td>3.5</td>\n",
       "      <td>2.0</td>\n",
       "      <td>6.5</td>\n",
       "      <td>1.5</td>\n",
       "      <td>17.60</td>\n",
       "      <td>...</td>\n",
       "      <td>1.65</td>\n",
       "      <td>0.16</td>\n",
       "      <td>1.43</td>\n",
       "      <td>2.42</td>\n",
       "      <td>1.07</td>\n",
       "      <td>1.67</td>\n",
       "      <td>3.46</td>\n",
       "      <td>0.35</td>\n",
       "      <td>5.65</td>\n",
       "      <td>32.67</td>\n",
       "    </tr>\n",
       "    <tr>\n",
       "      <th>4</th>\n",
       "      <td>5</td>\n",
       "      <td>2.111111</td>\n",
       "      <td>3.1</td>\n",
       "      <td>1.333333</td>\n",
       "      <td>6.0</td>\n",
       "      <td>5.5</td>\n",
       "      <td>2.5</td>\n",
       "      <td>5.5</td>\n",
       "      <td>5.0</td>\n",
       "      <td>52.63</td>\n",
       "      <td>...</td>\n",
       "      <td>1.12</td>\n",
       "      <td>0.08</td>\n",
       "      <td>1.14</td>\n",
       "      <td>0.38</td>\n",
       "      <td>0.85</td>\n",
       "      <td>1.05</td>\n",
       "      <td>4.67</td>\n",
       "      <td>0.38</td>\n",
       "      <td>8.34</td>\n",
       "      <td>34.25</td>\n",
       "    </tr>\n",
       "    <tr>\n",
       "      <th>...</th>\n",
       "      <td>...</td>\n",
       "      <td>...</td>\n",
       "      <td>...</td>\n",
       "      <td>...</td>\n",
       "      <td>...</td>\n",
       "      <td>...</td>\n",
       "      <td>...</td>\n",
       "      <td>...</td>\n",
       "      <td>...</td>\n",
       "      <td>...</td>\n",
       "      <td>...</td>\n",
       "      <td>...</td>\n",
       "      <td>...</td>\n",
       "      <td>...</td>\n",
       "      <td>...</td>\n",
       "      <td>...</td>\n",
       "      <td>...</td>\n",
       "      <td>...</td>\n",
       "      <td>...</td>\n",
       "      <td>...</td>\n",
       "      <td>...</td>\n",
       "    </tr>\n",
       "    <tr>\n",
       "      <th>2922</th>\n",
       "      <td>2923</td>\n",
       "      <td>2.000000</td>\n",
       "      <td>2.4</td>\n",
       "      <td>3.222222</td>\n",
       "      <td>6.0</td>\n",
       "      <td>6.5</td>\n",
       "      <td>3.0</td>\n",
       "      <td>3.5</td>\n",
       "      <td>4.5</td>\n",
       "      <td>10.13</td>\n",
       "      <td>...</td>\n",
       "      <td>4.19</td>\n",
       "      <td>0.00</td>\n",
       "      <td>2.99</td>\n",
       "      <td>0.00</td>\n",
       "      <td>1.80</td>\n",
       "      <td>0.00</td>\n",
       "      <td>3.59</td>\n",
       "      <td>0.00</td>\n",
       "      <td>14.37</td>\n",
       "      <td>37.72</td>\n",
       "    </tr>\n",
       "    <tr>\n",
       "      <th>2923</th>\n",
       "      <td>2924</td>\n",
       "      <td>1.333333</td>\n",
       "      <td>3.0</td>\n",
       "      <td>2.444444</td>\n",
       "      <td>6.0</td>\n",
       "      <td>4.5</td>\n",
       "      <td>7.0</td>\n",
       "      <td>6.5</td>\n",
       "      <td>1.0</td>\n",
       "      <td>10.06</td>\n",
       "      <td>...</td>\n",
       "      <td>2.86</td>\n",
       "      <td>0.00</td>\n",
       "      <td>2.86</td>\n",
       "      <td>0.00</td>\n",
       "      <td>1.90</td>\n",
       "      <td>0.00</td>\n",
       "      <td>2.86</td>\n",
       "      <td>0.00</td>\n",
       "      <td>12.38</td>\n",
       "      <td>31.43</td>\n",
       "    </tr>\n",
       "    <tr>\n",
       "      <th>2924</th>\n",
       "      <td>2925</td>\n",
       "      <td>2.777778</td>\n",
       "      <td>3.6</td>\n",
       "      <td>3.666667</td>\n",
       "      <td>3.5</td>\n",
       "      <td>2.5</td>\n",
       "      <td>3.5</td>\n",
       "      <td>5.0</td>\n",
       "      <td>5.5</td>\n",
       "      <td>10.00</td>\n",
       "      <td>...</td>\n",
       "      <td>10.43</td>\n",
       "      <td>0.87</td>\n",
       "      <td>0.00</td>\n",
       "      <td>4.35</td>\n",
       "      <td>0.00</td>\n",
       "      <td>0.00</td>\n",
       "      <td>0.87</td>\n",
       "      <td>0.00</td>\n",
       "      <td>19.13</td>\n",
       "      <td>59.13</td>\n",
       "    </tr>\n",
       "    <tr>\n",
       "      <th>2925</th>\n",
       "      <td>2926</td>\n",
       "      <td>1.555556</td>\n",
       "      <td>2.9</td>\n",
       "      <td>3.777778</td>\n",
       "      <td>4.0</td>\n",
       "      <td>6.5</td>\n",
       "      <td>4.0</td>\n",
       "      <td>2.5</td>\n",
       "      <td>4.0</td>\n",
       "      <td>27.79</td>\n",
       "      <td>...</td>\n",
       "      <td>3.51</td>\n",
       "      <td>0.25</td>\n",
       "      <td>3.84</td>\n",
       "      <td>11.27</td>\n",
       "      <td>0.17</td>\n",
       "      <td>0.58</td>\n",
       "      <td>1.34</td>\n",
       "      <td>0.08</td>\n",
       "      <td>12.69</td>\n",
       "      <td>42.90</td>\n",
       "    </tr>\n",
       "    <tr>\n",
       "      <th>2926</th>\n",
       "      <td>2927</td>\n",
       "      <td>2.444444</td>\n",
       "      <td>3.0</td>\n",
       "      <td>2.444444</td>\n",
       "      <td>7.0</td>\n",
       "      <td>5.5</td>\n",
       "      <td>1.5</td>\n",
       "      <td>3.0</td>\n",
       "      <td>4.0</td>\n",
       "      <td>NaN</td>\n",
       "      <td>...</td>\n",
       "      <td>NaN</td>\n",
       "      <td>NaN</td>\n",
       "      <td>NaN</td>\n",
       "      <td>NaN</td>\n",
       "      <td>NaN</td>\n",
       "      <td>NaN</td>\n",
       "      <td>NaN</td>\n",
       "      <td>NaN</td>\n",
       "      <td>NaN</td>\n",
       "      <td>NaN</td>\n",
       "    </tr>\n",
       "  </tbody>\n",
       "</table>\n",
       "<p>2927 rows × 109 columns</p>\n",
       "</div>"
      ],
      "text/plain": [
       "       uid  psychopathy  machiavellianism  narcissism  openness  \\\n",
       "0        1     2.444444               3.4    3.444444       7.0   \n",
       "1        2     1.888889               2.4    2.777778       7.0   \n",
       "2        3     1.111111               3.0    3.444444       5.5   \n",
       "3        4     1.888889               3.0    2.444444       5.0   \n",
       "4        5     2.111111               3.1    1.333333       6.0   \n",
       "...    ...          ...               ...         ...       ...   \n",
       "2922  2923     2.000000               2.4    3.222222       6.0   \n",
       "2923  2924     1.333333               3.0    2.444444       6.0   \n",
       "2924  2925     2.777778               3.6    3.666667       3.5   \n",
       "2925  2926     1.555556               2.9    3.777778       4.0   \n",
       "2926  2927     2.444444               3.0    2.444444       7.0   \n",
       "\n",
       "      conscientiousness  extraversion  agreeableness  neuroticism   Var1  ...  \\\n",
       "0                   6.0           5.5            3.5          3.5  48.59  ...   \n",
       "1                   4.5           6.0            3.0          5.5  41.29  ...   \n",
       "2                   6.0           6.0            6.5          3.0  14.65  ...   \n",
       "3                   3.5           2.0            6.5          1.5  17.60  ...   \n",
       "4                   5.5           2.5            5.5          5.0  52.63  ...   \n",
       "...                 ...           ...            ...          ...    ...  ...   \n",
       "2922                6.5           3.0            3.5          4.5  10.13  ...   \n",
       "2923                4.5           7.0            6.5          1.0  10.06  ...   \n",
       "2924                2.5           3.5            5.0          5.5  10.00  ...   \n",
       "2925                6.5           4.0            2.5          4.0  27.79  ...   \n",
       "2926                5.5           1.5            3.0          4.0    NaN  ...   \n",
       "\n",
       "      Var91  Var92  Var93  Var94  Var95  Var96  Var97  Var98  Var99  Var100  \n",
       "0      4.86   1.31   2.05   0.66   0.92   1.14   4.37   0.71  15.11   45.70  \n",
       "1      8.28   0.04   0.46   2.34   2.99   0.38   1.46   2.83  21.90   53.49  \n",
       "2      3.07   0.20   2.63   1.72   0.64   0.42   2.74   0.11  10.13   32.77  \n",
       "3      1.65   0.16   1.43   2.42   1.07   1.67   3.46   0.35   5.65   32.67  \n",
       "4      1.12   0.08   1.14   0.38   0.85   1.05   4.67   0.38   8.34   34.25  \n",
       "...     ...    ...    ...    ...    ...    ...    ...    ...    ...     ...  \n",
       "2922   4.19   0.00   2.99   0.00   1.80   0.00   3.59   0.00  14.37   37.72  \n",
       "2923   2.86   0.00   2.86   0.00   1.90   0.00   2.86   0.00  12.38   31.43  \n",
       "2924  10.43   0.87   0.00   4.35   0.00   0.00   0.87   0.00  19.13   59.13  \n",
       "2925   3.51   0.25   3.84  11.27   0.17   0.58   1.34   0.08  12.69   42.90  \n",
       "2926    NaN    NaN    NaN    NaN    NaN    NaN    NaN    NaN    NaN     NaN  \n",
       "\n",
       "[2927 rows x 109 columns]"
      ]
     },
     "execution_count": 154,
     "metadata": {},
     "output_type": "execute_result"
    }
   ],
   "source": [
    "import pandas as pd\n",
    "df = pd.read_csv(\"PersonalityData_ExternalVersion001.csv\")\n",
    "df"
   ]
  },
  {
   "cell_type": "code",
   "execution_count": 159,
   "metadata": {
    "scrolled": true
   },
   "outputs": [
    {
     "name": "stdout",
     "output_type": "stream",
     "text": [
      "Index(['uid', 'psychopathy', 'machiavellianism', 'narcissism', 'openness',\n",
      "       'conscientiousness', 'extraversion', 'agreeableness', 'neuroticism',\n",
      "       'Var1',\n",
      "       ...\n",
      "       'Var91', 'Var92', 'Var93', 'Var94', 'Var95', 'Var96', 'Var97', 'Var98',\n",
      "       'Var99', 'Var100'],\n",
      "      dtype='object', length=109)\n"
     ]
    },
    {
     "data": {
      "image/png": "[encoded data removed]",
      "text/plain": [
       "<Figure size 864x216 with 1 Axes>"
      ]
     },
     "metadata": {
      "needs_background": "light"
     },
     "output_type": "display_data"
    },
    {
     "data": {
      "image/png": "[encoded data removed]",
      "text/plain": [
       "<Figure size 864x216 with 1 Axes>"
      ]
     },
     "metadata": {
      "needs_background": "light"
     },
     "output_type": "display_data"
    },
    {
     "data": {
      "image/png": "[encoded data removed]",
      "text/plain": [
       "<Figure size 864x216 with 1 Axes>"
      ]
     },
     "metadata": {
      "needs_background": "light"
     },
     "output_type": "display_data"
    },
    {
     "data": {
      "image/png": "[encoded data removed]",
      "text/plain": [
       "<Figure size 864x216 with 1 Axes>"
      ]
     },
     "metadata": {
      "needs_background": "light"
     },
     "output_type": "display_data"
    },
    {
     "data": {
      "image/png": "[encoded data removed]",
      "text/plain": [
       "<Figure size 864x216 with 1 Axes>"
      ]
     },
     "metadata": {
      "needs_background": "light"
     },
     "output_type": "display_data"
    },
    {
     "data": {
      "image/png": "[encoded data removed]",
      "text/plain": [
       "<Figure size 864x216 with 1 Axes>"
      ]
     },
     "metadata": {
      "needs_background": "light"
     },
     "output_type": "display_data"
    },
    {
     "data": {
      "image/png": "[encoded data removed]",
      "text/plain": [
       "<Figure size 864x216 with 1 Axes>"
      ]
     },
     "metadata": {
      "needs_background": "light"
     },
     "output_type": "display_data"
    },
    {
     "data": {
      "image/png": "[encoded data removed]",
      "text/plain": [
       "<Figure size 864x216 with 1 Axes>"
      ]
     },
     "metadata": {
      "needs_background": "light"
     },
     "output_type": "display_data"
    },
    {
     "data": {
      "image/png": "[encoded data removed]",
      "text/plain": [
       "<Figure size 864x216 with 1 Axes>"
      ]
     },
     "metadata": {
      "needs_background": "light"
     },
     "output_type": "display_data"
    },
    {
     "data": {
      "image/png": "[encoded data removed]",
      "text/plain": [
       "<Figure size 864x216 with 1 Axes>"
      ]
     },
     "metadata": {
      "needs_background": "light"
     },
     "output_type": "display_data"
    }
   ],
   "source": [
    "#print(df.columns)\n",
    "for col in df.columns[:10]:\n",
    "    try:\n",
    "        ax=df.hist(column=col, bins=25, grid=False, figsize=(12,3), color='#86bf91', zorder=2, rwidth=0.9)\n",
    "    except Exception:\n",
    "        continue"
   ]
  },
  {
   "cell_type": "markdown",
   "metadata": {},
   "source": [
    "## Psychopathy Cutoff\n",
    "\n",
    "The model should aim to identify people scoring high in Psychopathy, for the purpose of this competition, defined as 2 SD's above a mean of 1.98. This accounts for roughly 3% of the entire sample and therefore the challenge with this dataset is developing a model to work with a highly imbalanced dataset."
   ]
  },
  {
   "cell_type": "code",
   "execution_count": 196,
   "metadata": {},
   "outputs": [],
   "source": [
    "av=df['psychopathy'].mean()\n",
    "std=df['psychopathy'].std()\n",
    "psychopath_cutoff=av+2*std\n",
    "df_cutoff=df[df['psychopathy']>psychopath_cutoff]"
   ]
  },
  {
   "cell_type": "code",
   "execution_count": 197,
   "metadata": {},
   "outputs": [
    {
     "data": {
      "image/png": "[encoded data removed]",
      "text/plain": [
       "<Figure size 864x216 with 1 Axes>"
      ]
     },
     "metadata": {
      "needs_background": "light"
     },
     "output_type": "display_data"
    }
   ],
   "source": [
    "ax=df.hist(column='psychopathy', bins=25, grid=False, figsize=(12,3), color='#86bf91', zorder=2, rwidth=0.9,range=[0,4.8])"
   ]
  },
  {
   "cell_type": "code",
   "execution_count": 198,
   "metadata": {},
   "outputs": [
    {
     "data": {
      "image/png": "[encoded data removed]",
      "text/plain": [
       "<Figure size 864x216 with 1 Axes>"
      ]
     },
     "metadata": {
      "needs_background": "light"
     },
     "output_type": "display_data"
    }
   ],
   "source": [
    "ax=df_cutoff.hist(column='psychopathy',bins=25, grid=False, figsize=(12,3), \n",
    "                  color='#86bf91', zorder=2, rwidth=0.9,range=[0,4.8])\n"
   ]
  },
  {
   "cell_type": "code",
   "execution_count": null,
   "metadata": {},
   "outputs": [],
   "source": []
  },
  {
   "cell_type": "code",
   "execution_count": null,
   "metadata": {},
   "outputs": [],
   "source": []
  }
 ],
 "metadata": {
  "kernelspec": {
   "display_name": "Python 3",
   "language": "python",
   "name": "python3"
  },
  "language_info": {
   "codemirror_mode": {
    "name": "ipython",
    "version": 3
   },
   "file_extension": ".py",
   "mimetype": "text/x-python",
   "name": "python",
   "nbconvert_exporter": "python",
   "pygments_lexer": "ipython3",
   "version": "3.8.5"
  }
 },
 "nbformat": 4,
 "nbformat_minor": 4
}
